{
 "cells": [
  {
   "cell_type": "markdown",
   "metadata": {},
   "source": [
    "## Malware Classification on Behavioral Data Challenge 5 "
   ]
  },
  {
   "cell_type": "markdown",
   "metadata": {},
   "source": [
    "### Read the input data files."
   ]
  },
  {
   "cell_type": "code",
   "execution_count": 182,
   "metadata": {
    "collapsed": false
   },
   "outputs": [],
   "source": [
    "import numpy as np\n",
    "import os\n",
    "# XTrain = np.loadtxt('training_data.csv', skiprows=1, usecols=(0,1), delimiter=',', dtype='str')\n",
    "# print XTrain[0]\n",
    "# # XTest = np.loadtxt('test_data_public_new.csv', skiprows=1, usecols=(1,), delimiter=',',dtype='str')\n",
    "# # print XTest[0]\n",
    "# YTrain = XTrain[:,-1]\n",
    "# XTrain = XTrain[:,0]\n",
    "# print XTrain.shape\n",
    "# YTrain = YTrain.astype(np.int)\n",
    "# # YTrain = YTrain.reshape(-1,1)\n",
    "# print type(YTrain[0]),YTrain[0],YTrain.shape\n",
    "# # print XTest.shape"
   ]
  },
  {
   "cell_type": "code",
   "execution_count": 183,
   "metadata": {
    "collapsed": false
   },
   "outputs": [
    {
     "name": "stdout",
     "output_type": "stream",
     "text": [
      "80\n"
     ]
    }
   ],
   "source": [
    "#Read the tweets one by one and process it\n",
    "import csv\n",
    "# inpTweets = csv.reader(open('TwitterData/survey_dump.csv', 'rb'), delimiter=',')\n",
    "inpTweets = csv.reader(open('TwitterData/survey_dump_with_tweet_count', 'rb'), delimiter=',')\n",
    "i = 0\n",
    "for row in inpTweets:\n",
    "    i+=1;\n",
    "\n",
    "print i\n"
   ]
  },
  {
   "cell_type": "markdown",
   "metadata": {},
   "source": [
    "### Pre-process Tweets"
   ]
  },
  {
   "cell_type": "code",
   "execution_count": 184,
   "metadata": {
    "collapsed": true
   },
   "outputs": [],
   "source": [
    "import re\n",
    "\n",
    "class PreprocessTweets:\n",
    "\n",
    "    def __init__(self):\n",
    "        self.name = 'PreprocessTweets'\n",
    "\n",
    "    #start process_tweet\n",
    "    def processTweet(self, tweet):\n",
    "        \n",
    "        #Convert to lower case\n",
    "        tweet = tweet.lower()\n",
    "        #Convert www.* or https?://* to URL\n",
    "        tweet = re.sub('((www\\.[^\\s]+)|(https?://[^\\s]+))','URL',tweet)\n",
    "        #Convert @username to AT_USER\n",
    "        tweet = re.sub('@[^\\s]+','AT_USER',tweet)\n",
    "        #Remove additional white spaces\n",
    "        tweet = re.sub('[\\s]+', ' ', tweet)\n",
    "        #Remove special characters\n",
    "        #tweet = re.sub('*\\[\\]%\\(\\)', '', tweet)\n",
    "        #Replace #word with word\n",
    "        tweet = re.sub(r'#([^\\s]+)', r'\\1', tweet)\n",
    "        #trim\n",
    "        tweet = tweet.strip('\\'\"')\n",
    "\n",
    "        # Remove all Non-ASCII characters\n",
    "        tweet = re.sub(r'[^\\x00-\\x7F]+',' ', tweet)\n",
    "\n",
    "        return tweet\n",
    "\n"
   ]
  },
  {
   "cell_type": "code",
   "execution_count": 185,
   "metadata": {
    "collapsed": false
   },
   "outputs": [],
   "source": [
    "\n",
    "# import PreprocessTweets\n",
    "\n",
    "class FilterStopWords:\n",
    "\n",
    "    # stopWords = []\n",
    "    def __init__(self):\n",
    "        self.name = 'FilterStopWords'\n",
    "        #initialize stopWords\n",
    "        self.stopWords = []\n",
    "\n",
    "    #start replaceTwoOrMore\n",
    "    # def replaceTwoOrMore(s):\n",
    "    #     #look for 2 or more repetitions of character and replace with the character itself\n",
    "    #     pattern = re.compile(r\"(.)\\1{1,}\", re.DOTALL)\n",
    "    #     return pattern.sub(r\"\\1\\1\", s)\n",
    "    #end\n",
    "\n",
    "    def getStopWordList(self, stopWordListFileName):\n",
    "        #read the stopwords file and build a list\n",
    "        stopWords = []\n",
    "        stopWords.append('AT_USER')\n",
    "        stopWords.append('URL')\n",
    "        stopWords.append('[')\n",
    "        stopWords.append('[')\n",
    "\n",
    "        fp = open(stopWordListFileName, 'r')\n",
    "        line = fp.readline()\n",
    "        while line:\n",
    "            word = line.strip()\n",
    "            stopWords.append(word)\n",
    "            line = fp.readline()\n",
    "        fp.close()\n",
    "        return stopWords\n",
    "    \n",
    "    def getFeatureVector(self, tweet, stopWords):\n",
    "        featureVector = []\n",
    "        #split tweet into words\n",
    "        words = tweet.split()\n",
    "        for w in words:\n",
    "            #replace two or more with two occurrences\n",
    "            #w = replaceTwoOrMore(w)\n",
    "            #strip punctuation\n",
    "            w = w.strip('\\'\"?,.')\n",
    "            #check if the word stats with an alphabet\n",
    "            val = re.search(r\"^[a-zA-Z][a-zA-Z0-9]*$\", w)\n",
    "            #ignore if it is a stop word\n",
    "            if(w in self.stopWords or val is None):\n",
    "                continue\n",
    "            else:\n",
    "                featureVector.append(w.lower())\n",
    "        return featureVector\n"
   ]
  },
  {
   "cell_type": "markdown",
   "metadata": {},
   "source": [
    "### Feature Engineering"
   ]
  },
  {
   "cell_type": "code",
   "execution_count": 186,
   "metadata": {
    "collapsed": false
   },
   "outputs": [],
   "source": [
    "XTrain = []\n",
    "YTrain = []\n",
    "XTrainFeatures = []\n",
    "XTrainSentiment = []\n",
    "XTrainFreqTweets = []\n",
    "geo_latitude = []\n",
    "geo_longitude = []\n",
    "\n",
    "# sample = \"{\"\"“@AMBITIOUS_SLIM: Fresh could have deleted my one of my double haves” huh\"\",\"\"@DJFreshery cause I can see u snappin off but doing it lowkey\"\",\"\"“@RAWmartini: The #WellCumThruThenMovement” best movement ever\"\",\"\"@HennessyBronze I do what I want tho\"\"}\"\n",
    "# sample = sample.replace('\"\",\"\"',\" \")\n",
    "# sample = sample.replace('\"\"',\" \")\n",
    "# print sample\n",
    "# wordsList = sample.split()\n",
    "\n",
    "\n",
    "# newwordsList = [word.split() for word in wordsList]\n",
    "# print newwordsList\n",
    "# filtered_words = [word for word in newwordsList if word not in stopwords.words('english')]\n",
    "# print filtered_words[0]\n",
    "# filteredTweets = ' '.join(filtered_words)\n",
    "# print filteredTweets\n",
    "\n",
    "\n",
    "# from PreprocessTweets import PreprocessTweets\n",
    "# from FilterStopWords import FilterStopWords\n",
    "import nltk\n",
    "# from nltk.sentiment.vader import SentimentIntensityAnalyzer\n",
    "from textblob import TextBlob\n",
    "\n",
    "# nltk.download()\n",
    "from nltk.corpus import stopwords\n",
    "\n",
    "class FeatureEngineering:\n",
    "\n",
    "    def __init__(self):\n",
    "        self.name = 'FeatureEngineering'\n",
    "        self.featureList = []\n",
    "        # self.sid = SentimentIntensityAnalyzer()\n",
    "\n",
    "\n",
    "    #start extract_features\n",
    "    def extract_features(self,tweet):\n",
    "        tweet_words = set(tweet)\n",
    "        features = {}\n",
    "        for word in self.featureList:\n",
    "            features['contains(%s)' % word] = (word in tweet_words)\n",
    "        return features\n",
    "\n",
    "## Create New Training set based on personality labels predicted from Survey results\n",
    "\n",
    "    def createNewTrainingSet(self):\n",
    "\n",
    "        objFilterStopWords = FilterStopWords()\n",
    "        objPreprocessTweets = PreprocessTweets()\n",
    "\n",
    "        stopWords = objFilterStopWords.getStopWordList('TwitterData/StopWords.txt')\n",
    "        \n",
    "        \n",
    "        #Read the tweets one by one and process it\n",
    "#         inpTweets = csv.reader(open('TwitterData/survey_dump.csv', 'rb'), delimiter=',') #, quotechar='|')\n",
    "        inpTweets = csv.reader(open('TwitterData/survey_dump_with_tweet_count', 'rb'), delimiter=',')\n",
    "        inpTweets.next()\n",
    "        tweets = []\n",
    "        i = 0\n",
    "        for row in inpTweets:\n",
    "#             print row\n",
    "            personality = row[5]\n",
    "#             print personality\n",
    "            tweet = row[1]\n",
    "            cleanTweet = tweet.replace('\"\",\"\"',\" \")\n",
    "            cleanTweet = cleanTweet.replace('\"\"',\" \")\n",
    "#             print tweet\n",
    "            processedTweet = objPreprocessTweets.processTweet(cleanTweet)\n",
    "#             print processedTweet\n",
    "\n",
    "            XTrainFreqTweets.append(int(row[4]))\n",
    "            wordsList = processedTweet.split()\n",
    "#             print wordsList\n",
    "            \n",
    "            # Remove stop words\n",
    "#             filtered_words = [word for word in processedTweet if word not in stopwords.words('english')]\n",
    "            filtered_words = [word for word in wordsList if word not in stopwords.words('english')]\n",
    "#             print filtered_words\n",
    "            filteredTweets = ' '.join(filtered_words)\n",
    "            \n",
    "            featureVector = objFilterStopWords.getFeatureVector(processedTweet, stopWords)\n",
    "            \n",
    "            geo_latitude.append(float(row[2]))\n",
    "            geo_longitude.append(float(row[3]))\n",
    "            \n",
    "            # Append to feature list to collect total words\n",
    "#             for word in featureVector:\n",
    "#                 self.featureList.append(word)\n",
    "            # featureList.append([featureVector[i] for i in xrange(len(featureVector))])\n",
    "\n",
    "            # Use NLTK Vader for Sentiment Analysis\n",
    "\n",
    "            # Citation: Hutto, C.J. & Gilbert, E.E. (2014). VADER: A Parsimonious Rule-based Model for Sentiment Analysis of Social Media Text.\n",
    "            # Eighth International Conference on Weblogs and Social Media (ICWSM-14). Ann Arbor, MI, June 2014.\n",
    "            # Extract sentiment based on the tweet.\n",
    "            # ss = self.sid.polarity_scores(row)\n",
    "            # for k in sorted(ss):\n",
    "            #     print('{0}: {1}, '.format(k, ss[k]))\n",
    "            #\n",
    "            # totSentiment = sorted(ss)[0]\n",
    "\n",
    "            # Use TextBlog for Sentiment Analysis\n",
    "            # print tweet\n",
    "            # blob = TextBlob(tweet)\n",
    "            \n",
    "            blob = TextBlob(processedTweet)\n",
    "            # print blob\n",
    "            sentiment = 0\n",
    "            for sentence in blob.sentences:\n",
    "                # print sentence\n",
    "                sentiment += sentence.sentiment.polarity\n",
    "                # print sentiment\n",
    "\n",
    "            totSentiment = sentiment/ len(blob.sentences)\n",
    "#             featureVector.append(totSentiment)\n",
    "\n",
    "            XTrainSentiment.append(totSentiment)\n",
    "    \n",
    "#             strFeatures = [item.lower() for item in featureVector]\n",
    "            \n",
    "#             XTrainFeatures.append(processedTweet)\n",
    "            XTrainFeatures.append(filteredTweets)\n",
    "            \n",
    "            YTrain.append(personality)\n",
    "            \n",
    "            tweets.append((featureVector, personality))\n",
    "            \n",
    "#             i+=1\n",
    "#             if i==3:\n",
    "#                 break\n",
    "            \n",
    "        #end loop\n",
    "#         print tweets\n",
    "#         print self.featureList\n",
    "        # Remove featureList duplicates\n",
    "#         featureList = list(set(self.featureList))\n",
    "\n",
    "        # Extract feature vector for all tweets in one shote\n",
    "        training_set = nltk.classify.util.apply_features(self.extract_features, tweets)\n",
    "\n",
    "#         print self.featureList\n",
    "#         print training_set\n",
    "\n",
    "\n",
    "       \n",
    "        return training_set\n"
   ]
  },
  {
   "cell_type": "markdown",
   "metadata": {
    "collapsed": true
   },
   "source": [
    "### Get Feature vector"
   ]
  },
  {
   "cell_type": "code",
   "execution_count": 187,
   "metadata": {
    "collapsed": false
   },
   "outputs": [],
   "source": [
    "\n",
    "# from PreprocessTweets import PreprocessTweets\n",
    "# from FilterStopWords import FilterStopWords\n",
    "# from FeatureEngineering import FeatureEngineering\n",
    "import nltk\n",
    "\n",
    "\n",
    "objFilterStopWords = FilterStopWords()\n",
    "objPreprocessTweets = PreprocessTweets()\n",
    "objFeatureEngineering = FeatureEngineering()\n",
    "\n",
    "#trainingSet = objFeatureEngineering.createTrainingSet()\n",
    "trainingSet = objFeatureEngineering.createNewTrainingSet()\n",
    "\n",
    "stopWordListFileName = 'TwitterData/StopWords.txt'\n",
    "stopWords = objFilterStopWords.getStopWordList(stopWordListFileName)\n",
    "\n",
    "# Train the classifier\n",
    "NBClassifier = nltk.NaiveBayesClassifier.train(trainingSet)\n",
    "\n",
    "# Test the classifier\n",
    "testTweet = 'Hurray, I am working on a project on personality prediction on twitter data using sentiment analysis!'\n",
    "processedTestTweet = objPreprocessTweets.processTweet(testTweet)\n",
    "featureVector = objFilterStopWords.getFeatureVector(processedTestTweet, stopWords)\n",
    "# print NBClassifier.classify(objFeatureEngineering.extract_features(featureVector))\n",
    "\n",
    "\n",
    "# # print informative features about the classifier\n",
    "# print NBClassifier.show_most_informative_features(10)\n",
    "\n",
    "\n",
    "# testTweet = 'I have successfully completed this project.'\n",
    "# processedTestTweet = objPreprocessTweets.processTweet(testTweet)\n",
    "# featureVector = objFilterStopWords.getFeatureVector(processedTestTweet, stopWords)\n",
    "# print NBClassifier.classify(objFeatureEngineering.extract_features(featureVector))\n"
   ]
  },
  {
   "cell_type": "code",
   "execution_count": 188,
   "metadata": {
    "collapsed": false
   },
   "outputs": [],
   "source": [
    "newYTrain = []\n",
    "# print YTrain\n",
    "for item in YTrain:\n",
    "    temp = item.replace('[', '')\n",
    "    temp = temp.replace('\\\"', '')\n",
    "    newItem = temp.replace(']', '')\n",
    "    newYTrain.append(newItem)\n",
    "    \n",
    "YTrain = newYTrain\n",
    "# print YTrain\n",
    "# print XTrainFeatures[0]"
   ]
  },
  {
   "cell_type": "markdown",
   "metadata": {},
   "source": [
    "### Map the class labels to numbers"
   ]
  },
  {
   "cell_type": "code",
   "execution_count": 189,
   "metadata": {
    "collapsed": false
   },
   "outputs": [],
   "source": [
    "\n",
    "def mapLabels(className):\n",
    "    if className == 'Conscientiousness':\n",
    "        return 0\n",
    "    elif className == 'Extrovert':\n",
    "        return 1\n",
    "    elif className == 'Agreeable':\n",
    "        return 2\n",
    "    elif className == 'Empathetic':\n",
    "        return 3\n",
    "    elif className == 'Novelty Seeking':\n",
    "        return 4\n",
    "    elif className == 'Perfectionist':\n",
    "        return 5\n",
    "    elif className == 'Rigid':\n",
    "        return 6\n",
    "    elif className == 'Impulsive':\n",
    "        return 7\n",
    "    elif className == 'Psychopath':\n",
    "        return 8\n",
    "    elif className == 'Obsessive':\n",
    "        return 9\n",
    "    elif className == None:\n",
    "        return 10\n",
    "\n",
    "YTrain = [mapLabels(x) for x in YTrain]\n",
    "# print YTrain"
   ]
  },
  {
   "cell_type": "code",
   "execution_count": 190,
   "metadata": {
    "collapsed": false
   },
   "outputs": [
    {
     "name": "stdout",
     "output_type": "stream",
     "text": [
      "79\n",
      "79\n",
      "{\"2 please\",\" AT_USER 1dmoviepremiere today! :d :d\",\"AT_USER getting follow would blessing :) love moon back <3 j\",\"AT_USER getting follow would blessing :) love moon back <3 k\",\"AT_USER thank bby :))\",\"AT_USER getting follow would blessing :) love moon back <3 37\",\"AT_USER getting follow would blessing :) love moon back <3 40\",\"AT_USER getting follow would blessing :) love moon back <3 30\",\"AT_USER idk it's little awkward tbh\",\"AT_USER *google images* big booty hoes\",\"AT_USER afternoon good sir\",\"AT_USER think ketchup enjoy it\",\"AT_USER heart aw aw aw\",\"AT_USER ugh haven't heard yet :(\",\"AT_USER getting follow would blessing :) love moon back <3 69\",\"AT_USER can't wait till come back tour us :))\",\" please follow fuckers love much AT_USER AT_USER AT_USER AT_USER 35\",\"calum hood stop dick follow please\",\"uk x factor different compared us version like it's much better lol\",\"AT_USER he's jealous\",\"AT_USER cause anxiety\",\"AT_USER you're angel sahar lol ily <3 liking new @ btw\",\"AT_USER hey calum see follow dont ignore please ily 127\",\"AT_USER dogs cats?\",\"AT_USER youtuber....\",\"AT_USER you're one us\",\"lol icon me\",\"AT_USER hi how's recording?\",\"AT_USER hi calum! hope wonderful day you're staying healthy :) please follow me, love know 8\",\"idk still \\\"what's goodie\\ ,\"AT_USER hey fuck you\",\" AT_USER please follow me! love much <33 t\",\"AT_USER lol caused enough drama flirting shit us\",\"AT_USER actually think bendy before?\",\" AT_USER we're late guys lol suck hold would've though\",\"this follow party getting hand\",\"AT_USER it's late try get follows, wait till tomorrow afternoon man\",\"AT_USER holy crap, you're gonna peel much\",\"AT_USER join marijuana movement, it's joint effort ha that's funny follow pls ily \",\"AT_USER bet could totally dude!! give twitter name stuff hopefully they'll follow you!\",\"he's holding balls\",\"AT_USER skype part hahaha i'm crying\",\" AT_USER AT_USER AT_USER AT_USER follow motherfuckers ily i'm 8\",\"ill keep eyes wide opennn\",\" AT_USER pineapple cool refreshing drink inside. turn up\",\"never forget calum's lip piercing\",\"AT_USER hey calum see follow dont dick please ily 307\",\"being added list one best feelings ( ) ily\",\"AT_USER mean better first one claps \",\"AT_USER meow bitch\",\"AT_USER hey calum see follow dont dick 218\",\"AT_USER hey calum see follow dont dick please 379\",\"i can't even watch damn hug without wanting stab throat\",\"AT_USER what's favorite thing bus?\",\"AT_USER god bless america\",\"AT_USER man things\",\"the live tweets boys friends best ones\",\"AT_USER can't hahaa\",\"AT_USER love much don't even know. thank much everything <3 goodnight boo\",\"i wonder shirt ashton ripped...\",\"AT_USER ...they already did....\",\"i'm uncomfortable luke creeps see holla me? maybe follow me? idk choice\",\"AT_USER wow you're gonna confused lol\",\"AT_USER AT_USER gonna buy strippers?\",\" AT_USER hi bby! please follow me! love much <33 138\",\" AT_USER hi bby! please follow me! love much <33 106\"}\n",
      "8\n",
      "{\"i wanna see cousin today dont feel like going mondawmin man \",\" AT_USER yo wanted smack shit freshman today yo. !!!!!!\",\" AT_USER vma's sunday!!! \",\"ya bitches asking asking nigga do\",\" AT_USER ain't get locked summer im proud \",\"AT_USER lol could've said thanks & tell ya name then.\",\" AT_USER joy luck club boringgggg! !!!\",\"AT_USER omg, you're going too?!\",\"ima things right time ya, born ride \",\"AT_USER AT_USER lmfao go 'head & get fcked shit.\",\"i wanna go kona grill.\",\"AT_USER sorry ya lost, keep ya head up.\",\"i cant stop smiling \",\"yo really know every vine \",\"pussy, money, weed got lat...steal ya girl call hijack\",\" AT_USER don't know wear tomorrow . goin? lol\",\"damn. ima bitch \",\"AT_USER get hair done got that\",\" AT_USER smiley fucked fucked way \",\"single & nobody attention.\",\"morning store walk..lol\",\" AT_USER could really go pizza & wings right now! !!!!\",\" AT_USER AT_USER AT_USER got lied shit crazy \",\"bad azz nigga. coming home soon nigga.\",\"yall using videos sluts.\",\"i videos doe \",\"i guess means nie go sleep lol\",\"man, miss dad everyday.\",\"worldwide coast coast love get.\",\" AT_USER AT_USER lol fine fine. lol\",\"AT_USER need ya help \",\"i really looking forward going mall\",\"AT_USER dont that? lol\",\"the closer get \",\"lol done got dropped steps,tvs fell head everything else thats act act.\",\"im like meek never sleep\",\"i feel terrible.\",\" AT_USER dfl nie flashy avi lmao already man.\",\"that's lor corey running niggas try fight \",\"va life gonna good \",\" AT_USER can't wait go home \",\"AT_USER lee coming tonight lol\",\" AT_USER AT_USER lol rude eat 20 piece mcdouble hungry ass lmao thats somebody hungry\",\"AT_USER really dont lol right, whatever \",\"AT_USER what?\",\"so ajayasia like nah? lol\",\"AT_USER picture lmao\",\"AT_USER lol smart?\",\" AT_USER bitchesssssssssss get rings next school year yaaasss lmfao remember said that?!\",\"when finally find somebody >\",\" AT_USER yup white-tee \",\"AT_USER text eddie \",\"my phone dry \",\"AT_USER goodmorning \",\" AT_USER AT_USER nah hate guess thats cool \",\"i bust nut im back thinking money\",\"he really said girls trynna freak says, \\\"wanna ride face use eats handle bars?\\\" like ?!\",\" AT_USER never apologize feel. that's like saying sorry real \",\"i wasn't even sleep long felt like forever \",\"i wanna love .. \",\" AT_USER really hate people . \"}\n",
      "7\n"
     ]
    }
   ],
   "source": [
    "XTrain = np.array(XTrainFeatures)\n",
    "YTrain = np.array(YTrain)\n",
    "\n",
    "print len(XTrain)\n",
    "print len(YTrain)\n",
    "\n",
    "print XTrain[1]\n",
    "print YTrain[1]\n",
    "\n",
    "\n",
    "print XTrain[15]\n",
    "print YTrain[15]\n",
    "\n",
    "# print XTrainFeatures"
   ]
  },
  {
   "cell_type": "markdown",
   "metadata": {
    "collapsed": true
   },
   "source": [
    "### Split Train and Test data"
   ]
  },
  {
   "cell_type": "code",
   "execution_count": 217,
   "metadata": {
    "collapsed": false
   },
   "outputs": [
    {
     "name": "stdout",
     "output_type": "stream",
     "text": [
      "60\n",
      "19\n",
      "79\n"
     ]
    }
   ],
   "source": [
    "trainSamples = XTrain[0:60]\n",
    "YtrainSamples = YTrain[0:60]\n",
    "\n",
    "testSamples = XTrain[60:]\n",
    "YtestSamples = YTrain[60:]\n",
    "\n",
    "print len(trainSamples)\n",
    "print len(testSamples)\n",
    "\n",
    "# print XTrain[60:63]\n",
    "print len(XTrain)\n",
    "\n",
    "\n",
    "trainSentimentSamples = np.array(XTrainSentiment[0:60])\n",
    "testSentimentSamples = np.array(XTrainSentiment[60:])\n",
    "trainFreqTweetSamples = np.array(XTrainFreqTweets[0:60])\n",
    "testFreqTweetSamples = np.array(XTrainFreqTweets[60:])"
   ]
  },
  {
   "cell_type": "code",
   "execution_count": 218,
   "metadata": {
    "collapsed": false
   },
   "outputs": [],
   "source": [
    "# XTrain = [item.lower() for item in XTrain]\n",
    "\n",
    "# XTrain = ' '.join(XTrain).lower()\n",
    "\n",
    "\n",
    "# # XTrain = [' '.join(item).lower() for item in XTrain]\n",
    "\n",
    "\n",
    "\n",
    "# print XTrain[4000:4003]"
   ]
  },
  {
   "cell_type": "markdown",
   "metadata": {},
   "source": [
    "### Bag of Words as Features"
   ]
  },
  {
   "cell_type": "code",
   "execution_count": 219,
   "metadata": {
    "collapsed": false
   },
   "outputs": [
    {
     "name": "stdout",
     "output_type": "stream",
     "text": [
      "4914\n",
      "(60, 4914)\n",
      "(19, 4914)\n"
     ]
    }
   ],
   "source": [
    "from sklearn.feature_extraction.text import CountVectorizer\n",
    "vectorizer = CountVectorizer()\n",
    "XTr = vectorizer.fit_transform(trainSamples)\n",
    "print len(vectorizer.get_feature_names())\n",
    "trainBagVector = XTr.toarray()\n",
    "print trainBagVector.shape\n",
    "XTe = vectorizer.transform(testSamples)\n",
    "testBagVector = XTe.toarray()\n",
    "print testBagVector.shape"
   ]
  },
  {
   "cell_type": "markdown",
   "metadata": {},
   "source": [
    "### TF-IDF"
   ]
  },
  {
   "cell_type": "code",
   "execution_count": 220,
   "metadata": {
    "collapsed": false
   },
   "outputs": [],
   "source": [
    "# trainBagVector = trainSamples\n",
    "# testBagVector = testSamples\n",
    "\n",
    "# from sklearn.feature_extraction.text import TfidfTransformer\n",
    "# transformer = TfidfTransformer()\n",
    "# # print transformer   \n",
    "# tfidfTrain = transformer.fit_transform(trainBagVector)\n",
    "# tfidfTrain = tfidfTrain.toarray()\n",
    "# tfidfTest = transformer.fit_transform(testBagVector)\n",
    "# tfidfTest = tfidfTest.toarray()\n",
    "# print tfidfTrain.shape, tfidfTest.shape\n",
    "# print tfidfTrain[0]\n",
    "# print tfidfTest[0]"
   ]
  },
  {
   "cell_type": "code",
   "execution_count": 221,
   "metadata": {
    "collapsed": false
   },
   "outputs": [],
   "source": [
    "# f=open(\"trainBagVector.txt\",'w')\n",
    "# f.write(trainBagVector)\n",
    "# np.savetxt(\"trainBagVector.txt\",trainBagVector)"
   ]
  },
  {
   "cell_type": "markdown",
   "metadata": {},
   "source": [
    "### State Transitions"
   ]
  },
  {
   "cell_type": "code",
   "execution_count": 222,
   "metadata": {
    "collapsed": false
   },
   "outputs": [
    {
     "name": "stdout",
     "output_type": "stream",
     "text": [
      "4914 4914\n"
     ]
    }
   ],
   "source": [
    "stateDict = {}\n",
    "featureVectors = vectorizer.get_feature_names()\n",
    "for i in xrange(len(featureVectors)):\n",
    "    stateDict[featureVectors[i]] = i+1\n",
    "print len(stateDict), len(featureVectors) #, stateDict"
   ]
  },
  {
   "cell_type": "code",
   "execution_count": 223,
   "metadata": {
    "collapsed": false
   },
   "outputs": [],
   "source": [
    "def createStateTransitionVector(categoricalState, stateDict, maxLength):\n",
    "    if categoricalState:\n",
    "        feature = []\n",
    "        for state in categoricalState.split(' '):\n",
    "            try:\n",
    "                feature.append(stateDict[state.lower()])\n",
    "            except KeyError:\n",
    "                pass\n",
    "#                 print state\n",
    "        if len(feature) != maxLength:\n",
    "            for i in xrange(maxLength-len(feature)):\n",
    "                feature.append(0)\n",
    "        assert(len(feature)==maxLength)\n",
    "        return feature\n",
    "    else:\n",
    "        return [0] * maxLength"
   ]
  },
  {
   "cell_type": "code",
   "execution_count": 224,
   "metadata": {
    "collapsed": true
   },
   "outputs": [],
   "source": [
    "def createStateVectors(XStates, stateDict, maxLength):\n",
    "    XFeatures = []\n",
    "    for state in XStates:\n",
    "        XFeatures.append(createStateTransitionVector(state, stateDict, maxLength))\n",
    "    return XFeatures"
   ]
  },
  {
   "cell_type": "code",
   "execution_count": 225,
   "metadata": {
    "collapsed": false
   },
   "outputs": [],
   "source": [
    "trainStateTransitionVector =  createStateVectors(trainSamples, stateDict,9353)\n",
    "testStateTransitionVector = createStateVectors(testSamples, stateDict,9353)\n",
    "# print trainStateTransitionVector[:2], testStateTransitionVector[:2]"
   ]
  },
  {
   "cell_type": "code",
   "execution_count": 226,
   "metadata": {
    "collapsed": false
   },
   "outputs": [
    {
     "name": "stdout",
     "output_type": "stream",
     "text": [
      "9353\n",
      "9353\n"
     ]
    }
   ],
   "source": [
    "print max([len(i) for i in trainStateTransitionVector])\n",
    "print max([len(i) for i in testStateTransitionVector])"
   ]
  },
  {
   "cell_type": "markdown",
   "metadata": {},
   "source": [
    "### N Grams as features"
   ]
  },
  {
   "cell_type": "code",
   "execution_count": 227,
   "metadata": {
    "collapsed": false
   },
   "outputs": [
    {
     "name": "stdout",
     "output_type": "stream",
     "text": [
      "CountVectorizer(analyzer=u'word', binary=False, decode_error=u'strict',\n",
      "        dtype=<type 'numpy.int64'>, encoding=u'utf-8', input=u'content',\n",
      "        lowercase=True, max_df=1.0, max_features=None, min_df=1,\n",
      "        ngram_range=(1, 3), preprocessor=None, stop_words=None,\n",
      "        strip_accents=None, token_pattern=u'(?u)\\\\b\\\\w\\\\w+\\\\b',\n",
      "        tokenizer=None, vocabulary=None)\n",
      "44678\n",
      "(60, 44678)\n",
      "(19, 44678)\n"
     ]
    }
   ],
   "source": [
    "import scipy as sp\n",
    "noNGram = 3\n",
    "vectorizerNGram = CountVectorizer(ngram_range=(1, noNGram))\n",
    "XTrainNGram = vectorizerNGram.fit_transform(trainSamples)\n",
    "\n",
    "print vectorizerNGram\n",
    "\n",
    "\n",
    "print len(vectorizerNGram.get_feature_names())\n",
    "trainNGramVector = XTrainNGram.toarray()\n",
    "print trainNGramVector.shape\n",
    "XTestNGram = vectorizerNGram.transform(testSamples)\n",
    "testNGramVector = XTestNGram.toarray()\n",
    "print testNGramVector.shape\n",
    "\n",
    "\n",
    "matrix_train = sp.sparse.csr_matrix(trainNGramVector)\n",
    "matrix_test = sp.sparse.csr_matrix(testNGramVector)"
   ]
  },
  {
   "cell_type": "markdown",
   "metadata": {},
   "source": [
    "### Stack or concatenate all features together"
   ]
  },
  {
   "cell_type": "code",
   "execution_count": 235,
   "metadata": {
    "collapsed": false
   },
   "outputs": [
    {
     "name": "stdout",
     "output_type": "stream",
     "text": [
      "(60, 4914)\n",
      "(60,)\n",
      "(60, 4915)\n",
      "(19, 4915)\n",
      "(60, 4916)\n"
     ]
    }
   ],
   "source": [
    "XTrainWordFeatures = trainBagVector\n",
    "print XTrainWordFeatures.shape\n",
    "print trainSentimentSamples.shape\n",
    "\n",
    "temp = np.column_stack((XTrainWordFeatures, trainSentimentSamples))\n",
    "print temp.shape\n",
    "XTrainAllFeatures =  np.column_stack((temp, trainFreqTweetSamples))\n",
    "\n",
    "\n",
    "XTestWordFeatures = testBagVector\n",
    "temp =  np.column_stack((XTestWordFeatures, testSentimentSamples))\n",
    "print temp.shape\n",
    "XTestAllFeatures =  np.column_stack((temp, testFreqTweetSamples))\n",
    "\n",
    "\n",
    "print XTrainAllFeatures.shape"
   ]
  },
  {
   "cell_type": "markdown",
   "metadata": {},
   "source": [
    "### Write Predicted Output Labels to File"
   ]
  },
  {
   "cell_type": "code",
   "execution_count": 236,
   "metadata": {
    "collapsed": true
   },
   "outputs": [],
   "source": [
    "def writePredictedLabelFile(YPred):\n",
    "    f = open(\"Predictions.csv\",\"w\")\n",
    "    f.write(\"Id,Label\" + \"\\n\")\n",
    "    for i in xrange(len(YPred)):\n",
    "        f.write(str(i) + \",\" + str(int(YPred[i]))+ \"\\n\")\n",
    "    f.close()"
   ]
  },
  {
   "cell_type": "markdown",
   "metadata": {
    "collapsed": true
   },
   "source": [
    "### Classifiers"
   ]
  },
  {
   "cell_type": "code",
   "execution_count": 237,
   "metadata": {
    "collapsed": true
   },
   "outputs": [],
   "source": [
    "# Random Forest Classifier\n",
    "from sklearn.ensemble import RandomForestClassifier\n",
    "# def classifyRandomForestClassifier(XTrain, XTest, YTrain, YTest,trees=100,crit='gini'):\n",
    "def classifyRandomForestClassifier(XTrain, XTest, YTrain, YTest, params):\n",
    "    trees = params['trees']\n",
    "    crit = params['criterion']\n",
    "    seed = params['random_state']\n",
    "    clf = RandomForestClassifier(n_estimators=trees,criterion=crit,random_state=seed)\n",
    "    clf.fit(XTrain, YTrain)\n",
    "    YPred = clf.predict(XTest)\n",
    "    diff = YPred - YTest\n",
    "    score = diff[diff == 0].size\n",
    "    return (100.0 * score)/(YPred.size)"
   ]
  },
  {
   "cell_type": "code",
   "execution_count": 238,
   "metadata": {
    "collapsed": true
   },
   "outputs": [],
   "source": [
    "#Multi Class SVM\n",
    "from sklearn import svm\n",
    "def classifyMultiClassSVMClassifier(XTrain, XTest, YTrain, YTest, params):\n",
    "    ker = params['kernel']\n",
    "    YPred = svm.SVC(kernel=ker).fit(XTrain, YTrain).predict(XTest)\n",
    "    diff = YPred - YTest\n",
    "    score = diff[diff == 0].size\n",
    "    return (100.0 * score)/(YPred.size)"
   ]
  },
  {
   "cell_type": "code",
   "execution_count": 239,
   "metadata": {
    "collapsed": true
   },
   "outputs": [],
   "source": [
    "#K Nearest Neighbours Classifier\n",
    "from sklearn.neighbors import KNeighborsClassifier\n",
    "def classifyKNNClassifier(XTrain, XTest, YTrain, YTest, params):\n",
    "#     print XTrain.shape, XTest.shape\n",
    "    neighbours = params['neighbours']\n",
    "    neigh = KNeighborsClassifier(n_neighbors=neighbours)\n",
    "    YPred = neigh.fit(XTrain, YTrain).predict(XTest)\n",
    "    diff = YPred - YTest\n",
    "    score = diff[diff == 0].size\n",
    "    return (100.0 * score)/(YPred.size)"
   ]
  },
  {
   "cell_type": "code",
   "execution_count": 240,
   "metadata": {
    "collapsed": false
   },
   "outputs": [],
   "source": [
    "# Logistic Regression\n",
    "from sklearn import linear_model\n",
    "def classifyLogisticRegression(XTrain, XTest, YTrain, YTest, params):\n",
    "    LogReg = linear_model.LogisticRegression(penalty='l2', dual=False, tol=0.0001, C=1.0, fit_intercept=True, intercept_scaling=1, class_weight=None, random_state=None)\n",
    "    LogReg.fit(XTrain, YTrain)\n",
    "    # Finds the optimal model parameters using a least squares method.\n",
    "    # To get the parameter values:\n",
    "    # LogReg.get_params()\n",
    "    # To predict a new input XTest,\n",
    "    YPred = LogReg.predict(XTest)\n",
    "    diff = YPred - YTest\n",
    "    score = diff[diff == 0].size\n",
    "    return (100.0 * score)/(YPred.size)"
   ]
  },
  {
   "cell_type": "code",
   "execution_count": 241,
   "metadata": {
    "collapsed": true
   },
   "outputs": [],
   "source": [
    "# Adaboost Classfier\n",
    "from sklearn.ensemble import AdaBoostClassifier\n",
    "from sklearn.tree import DecisionTreeClassifier\n",
    "def classifyAdaboostClassifier(XTrain, XTest, YTrain, YTest, params):\n",
    "    depth = params['max_depth']\n",
    "    algo = params['algorithm']\n",
    "    estimators = params['n_estimators']\n",
    "    \n",
    "    # Create and fit an AdaBoosted decision tree\n",
    "    bdt = AdaBoostClassifier(DecisionTreeClassifier(max_depth = depth),\n",
    "                         algorithm = algo,\n",
    "                         n_estimators=estimators)\n",
    "\n",
    "    bdt.fit(XTrain, YTrain)\n",
    "    YPred = bdt.predict(XTest)\n",
    "\n",
    "    diff = YPred - YTest\n",
    "    score = diff[diff == 0].size\n",
    "    return (100.0 * score)/(YPred.size)"
   ]
  },
  {
   "cell_type": "code",
   "execution_count": 242,
   "metadata": {
    "collapsed": true
   },
   "outputs": [],
   "source": [
    "# Neural Networks\n",
    "try:\n",
    "    from sknn.mlp import Classifier, Layer\n",
    "except ImportError:\n",
    "    print 'Please install scikit-neuralnetwork(pip install scikit-neuralnetwork)'\n",
    "\n",
    "def classifyNeuralNetworkClassifier(XTrain, XTest, YTrain, YTest, params):\n",
    "    activation = params['activation']\n",
    "    actLastLayer = params['actLastLayer']\n",
    "    rule = params['rule']\n",
    "    noOfUnits = params['units']\n",
    "    rate = params['rate']\n",
    "    noOfIter = params['iter']\n",
    "    nn = Classifier(layers=[Layer(activation, units=noOfUnits),Layer(actLastLayer)], learning_rule=rule,\n",
    "        learning_rate=0.02,\n",
    "        n_iter=10)\n",
    "    nn.fit(XTrain, YTrain)\n",
    "    YPred = nn.predict(XTest)\n",
    "    diff = YPred - YTest.reshape(YPred.shape)\n",
    "    score = diff[diff == 0].size\n",
    "    score = (100.0 * score)/(YPred.size)\n",
    "    return score"
   ]
  },
  {
   "cell_type": "markdown",
   "metadata": {},
   "source": [
    "### Stratified K Fold Cross Validation"
   ]
  },
  {
   "cell_type": "code",
   "execution_count": 243,
   "metadata": {
    "collapsed": true
   },
   "outputs": [],
   "source": [
    "from sklearn.cross_validation import StratifiedKFold\n",
    "def stratifiedKFoldVal(XTrain, YTrain, classify, params):\n",
    "    n_folds = 5\n",
    "    score = 0.0\n",
    "    skf = StratifiedKFold(YTrain, n_folds)\n",
    "    try:\n",
    "        multi = params['multi']\n",
    "    except KeyError:\n",
    "        multi = False\n",
    "    for train_index, test_index in skf:\n",
    "        y_train, y_test = YTrain[train_index], YTrain[test_index]\n",
    "        if not multi:\n",
    "            X_train, X_test = XTrain[train_index], XTrain[test_index]\n",
    "            score += classify(X_train, X_test,  y_train, y_test, params)\n",
    "        else:\n",
    "            X_train, X_test = [XTrain[i] for i in train_index], [XTrain[i] for i in test_index]\n",
    "            score += classify(np.array(X_train), np.array(X_test),  y_train, y_test, params)\n",
    "        \n",
    "    return score/n_folds"
   ]
  },
  {
   "cell_type": "markdown",
   "metadata": {},
   "source": [
    "### Normalisation of Feature Vectors"
   ]
  },
  {
   "cell_type": "code",
   "execution_count": 244,
   "metadata": {
    "collapsed": false
   },
   "outputs": [],
   "source": [
    "from sklearn import preprocessing\n",
    "def NormalizeVector(XTestFeatures,XTrainFeatures):\n",
    "    XTestFeaturesNorm = preprocessing.normalize(XTestFeatures, norm='l2')\n",
    "    XTrainFeaturesNorm = preprocessing.normalize(XTrainFeatures, norm='l2')\n",
    "    print XTrainFeaturesNorm.shape,XTestFeaturesNorm.shape\n",
    "#     print XTrainFeaturesNorm[0],XTestFeaturesNorm[0]\n",
    "    return XTrainFeaturesNorm, XTestFeaturesNorm"
   ]
  },
  {
   "cell_type": "markdown",
   "metadata": {},
   "source": [
    "### Assign Train features for cross validation based on the feature encoding"
   ]
  },
  {
   "cell_type": "code",
   "execution_count": 245,
   "metadata": {
    "collapsed": false
   },
   "outputs": [
    {
     "name": "stdout",
     "output_type": "stream",
     "text": [
      "<type 'numpy.ndarray'> <type 'list'>\n",
      "(60, 4916)\n",
      "(60,)\n"
     ]
    }
   ],
   "source": [
    "train = XTrainAllFeatures\n",
    "# train = tfidfTrain\n",
    "# train = trainStateTransitionVector\n",
    "print type(trainBagVector), type(trainStateTransitionVector)\n",
    "# train = []\n",
    "# for i in xrange(len(trainBagVector)):\n",
    "#     train.append(trainBagVector[i]+trainStateTransitionVector[i])\n",
    "# print len(train)\n",
    "# train = np.hstack([tfidfTrain, np.array(trainStateTransitionVector)])\n",
    "# train = np.hstack([trainBagVector, np.array(trainStateTransitionVector)])\n",
    "print train.shape\n",
    "YTrain = YtrainSamples\n",
    "print YTrain.shape\n",
    "YTest = YtestSamples"
   ]
  },
  {
   "cell_type": "markdown",
   "metadata": {},
   "source": [
    "### Selection of Nearest Neighbours for KNN"
   ]
  },
  {
   "cell_type": "code",
   "execution_count": 249,
   "metadata": {
    "collapsed": false
   },
   "outputs": [
    {
     "name": "stdout",
     "output_type": "stream",
     "text": [
      "15.8452380952\n",
      "12.5952380952\n",
      "12.8571428571\n",
      "21.0238095238\n",
      "23.8571428571\n",
      "27.5476190476\n",
      "30.4642857143\n",
      "[15.845238095238097, 12.595238095238095, 12.857142857142856, 21.023809523809526, 23.857142857142854, 27.547619047619047, 30.46428571428571]\n"
     ]
    }
   ],
   "source": [
    "selectNeighbourScores = []\n",
    "\n",
    "params = {'neighbours':2}\n",
    "score = stratifiedKFoldVal(train, YTrain, classifyKNNClassifier, params)\n",
    "print score\n",
    "selectNeighbourScores.append(score)\n",
    "\n",
    "params = {'neighbours':3}\n",
    "score = stratifiedKFoldVal(train, YTrain, classifyKNNClassifier, params)\n",
    "print score\n",
    "selectNeighbourScores.append(score)\n",
    "\n",
    "params = {'neighbours':4}\n",
    "score = stratifiedKFoldVal(train, YTrain, classifyKNNClassifier, params)\n",
    "print score\n",
    "selectNeighbourScores.append(score)\n",
    "\n",
    "params = {'neighbours':5}\n",
    "score = stratifiedKFoldVal(train, YTrain, classifyKNNClassifier, params)\n",
    "print score\n",
    "selectNeighbourScores.append(score)\n",
    "\n",
    "params = {'neighbours':10}\n",
    "score = stratifiedKFoldVal(train, YTrain, classifyKNNClassifier, params)\n",
    "print score\n",
    "selectNeighbourScores.append(score)\n",
    "\n",
    "params = {'neighbours':25}\n",
    "score = stratifiedKFoldVal(train, YTrain, classifyKNNClassifier, params)\n",
    "print score\n",
    "selectNeighbourScores.append(score)\n",
    "\n",
    "params = {'neighbours':40}\n",
    "score = stratifiedKFoldVal(train, YTrain, classifyKNNClassifier, params)\n",
    "print score\n",
    "selectNeighbourScores.append(score)\n",
    "\n",
    "print selectNeighbourScores"
   ]
  },
  {
   "cell_type": "code",
   "execution_count": 250,
   "metadata": {
    "collapsed": false
   },
   "outputs": [
    {
     "name": "stderr",
     "output_type": "stream",
     "text": [
      "/home/vishal/anaconda2/lib/python2.7/site-packages/matplotlib/font_manager.py:273: UserWarning: Matplotlib is building the font cache using fc-list. This may take a moment.\n",
      "  warnings.warn('Matplotlib is building the font cache using fc-list. This may take a moment.')\n"
     ]
    },
    {
     "data": {
      "image/png": "[encoded data removed]",
      "text/plain": [
       "<matplotlib.figure.Figure at 0x7fe75906f9d0>"
      ]
     },
     "metadata": {},
     "output_type": "display_data"
    }
   ],
   "source": [
    "#Plotting the results\n",
    "import matplotlib.pyplot as plt\n",
    "%matplotlib inline\n",
    "plt.plot(selectNeighbourScores, label = \"Neighbors in k-Nearest Neighbor (kNN) Classifier\")\n",
    "plt.title(\"Neighbors in k-Nearest Neighbor (kNN) Classifier\")\n",
    "\n",
    "labels = [2,3,4,5,6,8,10]\n",
    "plt.xticks(np.arange(len(labels)), labels, rotation='horizontal')\n",
    "# plt.title(\"Optimal choice of Neighbors in k-Nearest Neighbor (kNN) Classifier\")\n",
    "plt.ylabel('Categorization Accuracy')\n",
    "plt.xlabel('No. of Neighbours')\n",
    "# plt.legend(bbox_to_anchor=(1.05, 1), loc=2, borderaxespad=0.)\n",
    "plt.show()"
   ]
  },
  {
   "cell_type": "markdown",
   "metadata": {},
   "source": [
    "#### Hence, we choose k = 25 for our nearest neighbor classifier."
   ]
  },
  {
   "cell_type": "code",
   "execution_count": 251,
   "metadata": {
    "collapsed": false
   },
   "outputs": [
    {
     "name": "stdout",
     "output_type": "stream",
     "text": [
      "19 60\n"
     ]
    }
   ],
   "source": [
    "print len(testStateTransitionVector), len(trainStateTransitionVector)"
   ]
  },
  {
   "cell_type": "code",
   "execution_count": 252,
   "metadata": {
    "collapsed": false
   },
   "outputs": [],
   "source": [
    "# Submission\n",
    "# train = np.hstack([trainBagVector, np.array(trainStateTransitionVector)])\n",
    "# test = np.hstack([testBagVector, np.array(testStateTransitionVector)])\n",
    "# params = {'neighbours':5}\n",
    "# neighbours = params['neighbours']\n",
    "# neigh = KNeighborsClassifier(n_neighbors=neighbours)\n",
    "# YPred = neigh.fit(train, YTrain).predict(test)\n",
    "# # writePredictedLabelFile(YPred)\n",
    "# UseChallenge3Predictions(YPred)"
   ]
  },
  {
   "cell_type": "markdown",
   "metadata": {},
   "source": [
    "### Selection of Parameters for Random Forest"
   ]
  },
  {
   "cell_type": "code",
   "execution_count": 253,
   "metadata": {
    "collapsed": false
   },
   "outputs": [
    {
     "name": "stdout",
     "output_type": "stream",
     "text": [
      "26.5357142857\n",
      "26.5357142857\n",
      "28.0238095238\n",
      "29.2738095238\n",
      "[26.53571428571429, 26.53571428571429, 28.023809523809526, 29.273809523809526]\n"
     ]
    }
   ],
   "source": [
    "selectRandomForestScores = []\n",
    "\n",
    "params = {'trees':500, 'criterion':'entropy','random_state':1000}\n",
    "score = stratifiedKFoldVal(train, YTrain, classifyRandomForestClassifier, params)\n",
    "print score\n",
    "selectRandomForestScores.append(score)\n",
    "\n",
    "params = {'trees':1000, 'criterion':'entropy','random_state':1000}\n",
    "score = stratifiedKFoldVal(train, YTrain, classifyRandomForestClassifier, params)\n",
    "print score\n",
    "selectRandomForestScores.append(score)\n",
    "\n",
    "params = {'trees':500, 'criterion':'gini','random_state':1000}\n",
    "score = stratifiedKFoldVal(train, YTrain, classifyRandomForestClassifier, params)\n",
    "print score\n",
    "selectRandomForestScores.append(score)\n",
    "\n",
    "params = {'trees':1000, 'criterion':'gini','random_state':1000}\n",
    "score = stratifiedKFoldVal(train, YTrain, classifyRandomForestClassifier, params)\n",
    "print score\n",
    "selectRandomForestScores.append(score)\n",
    "\n",
    "print selectRandomForestScores"
   ]
  },
  {
   "cell_type": "code",
   "execution_count": 254,
   "metadata": {
    "collapsed": false
   },
   "outputs": [
    {
     "data": {
      "image/png": "[encoded data removed]",
      "text/plain": [
       "<matplotlib.figure.Figure at 0x7fe74d32d510>"
      ]
     },
     "metadata": {},
     "output_type": "display_data"
    }
   ],
   "source": [
    "#Plotting the results\n",
    "import matplotlib.pyplot as plt\n",
    "%matplotlib inline\n",
    "plt.plot(selectRandomForestScores, label = \"Random Forest Classifier\")\n",
    "plt.title(\"Random Forest Classifier\")\n",
    "\n",
    "labels = ['500 Trees + entropy', '1000 Trees + entropy', '500 Trees + gini', '1000 Trees + gini']\n",
    "\n",
    "# You can specify a rotation for the tick labels in degrees or with keywords.\n",
    "plt.xticks(np.arange(len(labels)), labels, rotation='vertical')\n",
    "\n",
    "plt.ylabel('Scores')\n",
    "plt.xlabel('Parameters')\n",
    "# Place a legend to the right of this smaller figure.\n",
    "# plt.legend(bbox_to_anchor=(1.05, 1), loc=2, borderaxespad=0.)\n",
    "plt.show()"
   ]
  },
  {
   "cell_type": "markdown",
   "metadata": {},
   "source": [
    "#### Hence, we choose 1000 Trees + Gini as a criterion for our Random Forest classifier."
   ]
  },
  {
   "cell_type": "code",
   "execution_count": 255,
   "metadata": {
    "collapsed": false
   },
   "outputs": [],
   "source": [
    "# Submission\n",
    "# params = {'trees':150, 'criterion':'entropy','random_state':None}\n",
    "# trees = params['trees']\n",
    "# crit = params['criterion']\n",
    "# seed = params['random_state']\n",
    "# clf = RandomForestClassifier(n_estimators=trees,criterion=crit,random_state=seed)\n",
    "# clf.fit(trainBagVector, YTrain)\n",
    "# YPred = clf.predict(testBagVector)"
   ]
  },
  {
   "cell_type": "markdown",
   "metadata": {},
   "source": [
    "### Selection of Kernel for Multi Class SVM"
   ]
  },
  {
   "cell_type": "code",
   "execution_count": 256,
   "metadata": {
    "collapsed": false
   },
   "outputs": [
    {
     "name": "stdout",
     "output_type": "stream",
     "text": [
      "31.7976190476\n",
      "21.9523809524\n",
      "38.2976190476\n"
     ]
    }
   ],
   "source": [
    "selectKernelScores = []\n",
    "\n",
    "params = {'kernel':'poly'}\n",
    "score = stratifiedKFoldVal(train, YTrain, classifyMultiClassSVMClassifier, params)\n",
    "print score\n",
    "selectKernelScores.append(score)\n",
    "\n",
    "params = {'kernel':'linear'}\n",
    "score = stratifiedKFoldVal(train, YTrain, classifyMultiClassSVMClassifier, params)\n",
    "print score\n",
    "selectKernelScores.append(score)\n",
    "\n",
    "params = {'kernel':'rbf'}\n",
    "score = stratifiedKFoldVal(train, YTrain, classifyMultiClassSVMClassifier, params)\n",
    "print score\n",
    "selectKernelScores.append(score)"
   ]
  },
  {
   "cell_type": "code",
   "execution_count": 258,
   "metadata": {
    "collapsed": false
   },
   "outputs": [
    {
     "data": {
      "image/png": "[encoded data removed]",
      "text/plain": [
       "<matplotlib.figure.Figure at 0x7fe74d297810>"
      ]
     },
     "metadata": {},
     "output_type": "display_data"
    }
   ],
   "source": [
    "#Plotting the results\n",
    "import matplotlib.pyplot as plt\n",
    "%matplotlib inline\n",
    "plt.plot(selectKernelScores, label = \"Multiclass SVM Classifier\")\n",
    "\n",
    "labels = ['poly','linear','rbf']\n",
    "plt.title(\"Multiclass SVM Classifier\")\n",
    "# You can specify a rotation for the tick labels in degrees or with keywords.\n",
    "plt.xticks(np.arange(len(labels)), labels, rotation='horizontal')\n",
    "\n",
    "plt.ylabel('Scores')\n",
    "plt.xlabel('Kernel used')\n",
    "# Place a legend to the right of this smaller figure.\n",
    "# plt.legend(bbox_to_anchor=(1.05, 1), loc=2, borderaxespad=0.)\n",
    "plt.show()"
   ]
  },
  {
   "cell_type": "markdown",
   "metadata": {
    "collapsed": true
   },
   "source": [
    "#### Hence, we choose rbf for our SVM classifier."
   ]
  },
  {
   "cell_type": "code",
   "execution_count": 259,
   "metadata": {
    "collapsed": true
   },
   "outputs": [],
   "source": [
    "# params = {'kernel':'rbf'}\n",
    "# ker = params['kernel']\n",
    "# YPred = svm.SVC(kernel=ker).fit(trainBagVector, YTrain).predict(testBagVector)\n",
    "# writePredictedLabelFile(YPred)"
   ]
  },
  {
   "cell_type": "markdown",
   "metadata": {},
   "source": [
    "### Logistic Regression"
   ]
  },
  {
   "cell_type": "code",
   "execution_count": 262,
   "metadata": {
    "collapsed": false
   },
   "outputs": [
    {
     "name": "stdout",
     "output_type": "stream",
     "text": [
      "19.5952380952\n"
     ]
    }
   ],
   "source": [
    "# params = {'multi':False}\n",
    "# train = tfidfTrain\n",
    "# score = stratifiedKFoldVal(train, YTrain, classifyLogisticRegression, params)\n",
    "# print score\n",
    "train = XTrainAllFeatures\n",
    "score = stratifiedKFoldVal(train, YTrain, classifyLogisticRegression, params)\n",
    "print score"
   ]
  },
  {
   "cell_type": "code",
   "execution_count": 261,
   "metadata": {
    "collapsed": false
   },
   "outputs": [
    {
     "name": "stdout",
     "output_type": "stream",
     "text": [
      "27.9047619048\n"
     ]
    }
   ],
   "source": [
    "params = {'multi':True}\n",
    "train = trainStateTransitionVector\n",
    "score = stratifiedKFoldVal(train, YTrain, classifyLogisticRegression, params)\n",
    "print score"
   ]
  },
  {
   "cell_type": "code",
   "execution_count": null,
   "metadata": {
    "collapsed": true
   },
   "outputs": [],
   "source": [
    "# LogReg = linear_model.LogisticRegression(penalty='l2', dual=False, tol=0.0001, C=1.0, fit_intercept=True, intercept_scaling=1, class_weight=None, random_state=None)\n",
    "# LogReg.fit(trainBagVector, YTrain)\n",
    "# YPred = LogReg.predict(testBagVector)\n",
    "# # writePredictedLabelFile(YPred)"
   ]
  },
  {
   "cell_type": "markdown",
   "metadata": {},
   "source": [
    "### Define the parameters for Adaboost and use it on different training dataset"
   ]
  },
  {
   "cell_type": "code",
   "execution_count": 268,
   "metadata": {
    "collapsed": false
   },
   "outputs": [
    {
     "name": "stdout",
     "output_type": "stream",
     "text": [
      "21.380952381\n"
     ]
    }
   ],
   "source": [
    "train = XTrainAllFeatures\n",
    "params = {'max_depth':1, 'algorithm':'SAMME', 'n_estimators':200}\n",
    "score = stratifiedKFoldVal(train, YTrain, classifyAdaboostClassifier, params)\n",
    "print score"
   ]
  },
  {
   "cell_type": "code",
   "execution_count": 269,
   "metadata": {
    "collapsed": false
   },
   "outputs": [
    {
     "name": "stdout",
     "output_type": "stream",
     "text": [
      "19.7142857143\n"
     ]
    }
   ],
   "source": [
    "train = XTrainAllFeatures\n",
    "params = {'max_depth':10, 'algorithm':'SAMME', 'n_estimators':500}\n",
    "score = stratifiedKFoldVal(train, YTrain, classifyAdaboostClassifier, params)\n",
    "print score"
   ]
  },
  {
   "cell_type": "code",
   "execution_count": 270,
   "metadata": {
    "collapsed": false
   },
   "outputs": [],
   "source": [
    "# # Submission\n",
    "# params = {'max_depth':10, 'algorithm':'SAMME', 'n_estimators':500}\n",
    "# train = tfidfTrain\n",
    "# test = tfidfTest\n",
    "# depth = params['max_depth']\n",
    "# algo = params['algorithm']\n",
    "# estimators = params['n_estimators']\n",
    "\n",
    "# # Create and fit an AdaBoosted decision tree\n",
    "# bdt = AdaBoostClassifier(DecisionTreeClassifier(max_depth = depth),\n",
    "#                      algorithm = algo,\n",
    "#                      n_estimators=estimators)\n",
    "\n",
    "# bdt.fit(train, YTrain)\n",
    "# YPred = bdt.predict(test)\n",
    "# # writePredictedLabelFile(YPred)"
   ]
  },
  {
   "cell_type": "markdown",
   "metadata": {},
   "source": [
    "### Selection of Parameters for Neural Networks"
   ]
  },
  {
   "cell_type": "code",
   "execution_count": 274,
   "metadata": {
    "collapsed": false
   },
   "outputs": [
    {
     "name": "stdout",
     "output_type": "stream",
     "text": [
      "13.0119047619\n"
     ]
    }
   ],
   "source": [
    "train = XTrainAllFeatures\n",
    "# params = {'activation':'Rectifier', 'units':100, 'rate':0.02, 'iter':10}\n",
    "params = {'activation':'Tanh', 'actLastLayer':'Softmax', 'rule':'momentum', 'units':100, 'rate':0.002, 'iter':10}\n",
    "score = stratifiedKFoldVal(train, YTrain, classifyNeuralNetworkClassifier, params)\n",
    "print score"
   ]
  },
  {
   "cell_type": "code",
   "execution_count": 272,
   "metadata": {
    "collapsed": false
   },
   "outputs": [
    {
     "name": "stdout",
     "output_type": "stream",
     "text": [
      "19.4404761905\n"
     ]
    }
   ],
   "source": [
    "train = XTrainAllFeatures\n",
    "# params = {'activation':'Rectifier', 'units':100, 'rate':0.02, 'iter':10}\n",
    "params = {'activation':'Tanh', 'actLastLayer':'Softmax', 'rule':'sgd', 'units':100, 'rate':0.002, 'iter':10}\n",
    "score = stratifiedKFoldVal(train, YTrain, classifyNeuralNetworkClassifier, params)\n",
    "print score"
   ]
  },
  {
   "cell_type": "code",
   "execution_count": 273,
   "metadata": {
    "collapsed": false
   },
   "outputs": [
    {
     "name": "stdout",
     "output_type": "stream",
     "text": [
      "19.8571428571\n"
     ]
    }
   ],
   "source": [
    "train = XTrainAllFeatures\n",
    "params = {'activation':'Sigmoid', 'actLastLayer':'Softmax', 'rule':'rmsprop', 'units':100, 'rate':0.002, 'iter':10}\n",
    "score = stratifiedKFoldVal(train, YTrain, classifyNeuralNetworkClassifier, params)\n",
    "print score"
   ]
  },
  {
   "cell_type": "code",
   "execution_count": null,
   "metadata": {
    "collapsed": true
   },
   "outputs": [],
   "source": [
    "# # Submission\n",
    "# tr = trainBagVector\n",
    "# te = testBagVector\n",
    "# params = {'activation':'Tanh', 'actLastLayer':'Softmax', 'rule':'adagrad', 'units':100, 'rate':0.002, 'iter':10}\n",
    "# activation = params['activation']\n",
    "# actLastLayer = params['actLastLayer']\n",
    "# rule = params['rule']\n",
    "# noOfUnits = params['units']\n",
    "# rate = params['rate']\n",
    "# noOfIter = params['iter']\n",
    "# nn = Classifier(layers=[Layer(activation, units=noOfUnits),Layer(actLastLayer)], learning_rule=rule,\n",
    "#         learning_rate=0.02,\n",
    "#         n_iter=10)\n",
    "# nn.fit(tr, YTrain)\n",
    "# YPred = nn.predict(te)\n",
    "# # writePredictedLabelFile(YPred)"
   ]
  },
  {
   "cell_type": "markdown",
   "metadata": {
    "collapsed": true
   },
   "source": [
    "### Get features in format for Models of NLTK Classify "
   ]
  },
  {
   "cell_type": "code",
   "execution_count": null,
   "metadata": {
    "collapsed": true
   },
   "outputs": [],
   "source": [
    "def featNLTKClassify(samples, phase):\n",
    "    featureVectors = vectorizer.get_feature_names()\n",
    "    nltkClassifySamples = []\n",
    "\n",
    "    for i in xrange(len(samples)):\n",
    "        t = samples[i]\n",
    "        lstFuncCalls = t.split()\n",
    "        wordOccDict = {}\n",
    "        for j in xrange(len(featureVectors)):\n",
    "             wordOccDict[featureVectors[j]] = lstFuncCalls.count(featureVectors[j])\n",
    "        if phase == 'train':\n",
    "            nltkClassifySamples.append((wordOccDict, YTrain[i]))\n",
    "        else:\n",
    "            nltkClassifySamples.append(wordOccDict)\n",
    "\n",
    "    return nltkClassifySamples"
   ]
  },
  {
   "cell_type": "code",
   "execution_count": null,
   "metadata": {
    "collapsed": true
   },
   "outputs": [],
   "source": [
    "nltkClassifyTrain = featNLTKClassify(trainSamples, 'train')\n",
    "nltkClassifyTest = featNLTKClassify(testSamples, 'test')"
   ]
  },
  {
   "cell_type": "markdown",
   "metadata": {},
   "source": [
    "### Nave Baiyes Classifier"
   ]
  },
  {
   "cell_type": "code",
   "execution_count": null,
   "metadata": {
    "collapsed": true
   },
   "outputs": [],
   "source": [
    "tr = nltkClassifyTrain\n",
    "te = nltkClassifyTest\n",
    "classifier = nltk.classify.NaiveBayesClassifier.train(tr)\n",
    "sorted(classifier.labels())"
   ]
  },
  {
   "cell_type": "code",
   "execution_count": null,
   "metadata": {
    "collapsed": true
   },
   "outputs": [],
   "source": [
    "classifier.classify_many(te)\n",
    "\n",
    "classifier.show_most_informative_features()\n",
    "# print nltk.classify.accuracy(classifier, te)*100"
   ]
  },
  {
   "cell_type": "markdown",
   "metadata": {},
   "source": [
    "### Maximum Entropy Classifier"
   ]
  },
  {
   "cell_type": "code",
   "execution_count": null,
   "metadata": {
    "collapsed": true
   },
   "outputs": [],
   "source": [
    "from nltk.classify import maxent\n",
    "tr = nltkClassifyTrain\n",
    "te = nltkClassifyTest\n",
    "classifierME = maxent.MaxentClassifier.train(tr, bernoulli=False, encoding=encoding, trace=0)\n",
    "classifierME.classify_many(te)"
   ]
  },
  {
   "cell_type": "markdown",
   "metadata": {},
   "source": [
    "### Decision Tree Classifier"
   ]
  },
  {
   "cell_type": "code",
   "execution_count": null,
   "metadata": {
    "collapsed": true
   },
   "outputs": [],
   "source": [
    "tr = nltkClassifyTrain\n",
    "te = nltkClassifyTest\n",
    "\n",
    "classifier = nltk.classify.DecisionTreeClassifier.train(tr, entropy_cutoff=0,support_cutoff=0)\n",
    "sorted(classifier.labels())\n",
    "print(classifier)\n",
    "classifier.classify_many(te)"
   ]
  },
  {
   "cell_type": "markdown",
   "metadata": {},
   "source": [
    "### Graphs depicting Categorization Accuracy scores on KFold Stratified Validation on Train data for:"
   ]
  },
  {
   "cell_type": "code",
   "execution_count": null,
   "metadata": {
    "collapsed": false
   },
   "outputs": [],
   "source": [
    "selectRandomForestScores = []\n",
    "selectKernelScores = []\n",
    "selectNeighbourScores = []\n",
    "\n",
    "train = trainBagVector\n",
    "\n",
    "params = {'trees':1000, 'criterion':'gini','random_state':1000}\n",
    "score = stratifiedKFoldVal(train, YTrain, classifyRandomForestClassifier, params)\n",
    "print score\n",
    "selectRandomForestScores.append(score)\n",
    "\n",
    "params = {'neighbours':25}\n",
    "score = stratifiedKFoldVal(train, YTrain, classifyKNNClassifier, params)\n",
    "print score\n",
    "selectNeighbourScores.append(score)\n",
    "\n",
    "params = {'kernel':'linear'}\n",
    "score = stratifiedKFoldVal(train, YTrain, classifyMultiClassSVMClassifier, params)\n",
    "print score\n",
    "selectKernelScores.append(score)\n",
    "\n",
    "\n",
    "\n",
    "train = tfidfTrain\n",
    "\n",
    "params = {'trees':1000, 'criterion':'gini','random_state':1000}\n",
    "score = stratifiedKFoldVal(train, YTrain, classifyRandomForestClassifier, params)\n",
    "print score\n",
    "selectRandomForestScores.append(score)\n",
    "\n",
    "params = {'neighbours':25}\n",
    "score = stratifiedKFoldVal(train, YTrain, classifyKNNClassifier, params)\n",
    "print score\n",
    "selectNeighbourScores.append(score)\n",
    "\n",
    "params = {'kernel':'rbf'}\n",
    "score = stratifiedKFoldVal(train, YTrain, classifyMultiClassSVMClassifier, params)\n",
    "print score\n",
    "selectKernelScores.append(score)\n",
    "\n",
    "\n",
    "train = np.array(trainStateTransitionVector)\n",
    "\n",
    "params = {'trees':1000, 'criterion':'gini','random_state':1000}\n",
    "score = stratifiedKFoldVal(train, YTrain, classifyRandomForestClassifier, params)\n",
    "print score\n",
    "selectRandomForestScores.append(score)\n",
    "\n",
    "params = {'neighbours':25}\n",
    "score = stratifiedKFoldVal(train, YTrain, classifyKNNClassifier, params)\n",
    "print score\n",
    "selectNeighbourScores.append(score)\n",
    "\n",
    "\n",
    "params = {'kernel':'rbf'}\n",
    "score = stratifiedKFoldVal(train, YTrain, classifyMultiClassSVMClassifier, params)\n",
    "print score\n",
    "selectKernelScores.append(score)\n",
    "\n",
    "\n",
    "train = np.hstack([trainBagVector, np.array(trainStateTransitionVector)])\n",
    "\n",
    "params = {'trees':1000, 'criterion':'gini','random_state':1000}\n",
    "score = stratifiedKFoldVal(train, YTrain, classifyRandomForestClassifier, params)\n",
    "print score\n",
    "selectRandomForestScores.append(score)\n",
    "\n",
    "params = {'neighbours':25}\n",
    "score = stratifiedKFoldVal(train, YTrain, classifyKNNClassifier, params)\n",
    "print score\n",
    "selectNeighbourScores.append(score)\n",
    "\n",
    "params = {'kernel':'rbf'}\n",
    "score = stratifiedKFoldVal(train, YTrain, classifyMultiClassSVMClassifier, params)\n",
    "print score\n",
    "selectKernelScores.append(score)\n",
    "\n",
    "\n",
    "\n",
    "print selectRandomForestScores\n",
    "print selectKernelScores\n",
    "print selectNeighbourScores"
   ]
  },
  {
   "cell_type": "code",
   "execution_count": null,
   "metadata": {
    "collapsed": false
   },
   "outputs": [],
   "source": [
    "#Plotting the results\n",
    "import matplotlib.pyplot as plt\n",
    "%matplotlib inline\n",
    "plt.plot(selectRandomForestScores, label = \"Random Forest Classifier\")\n",
    "plt.plot(selectKernelScores, label = \"Multiclass Linear SVM Classifier\")\n",
    "plt.plot(selectNeighbourScores, label = \"KNN Classifier\")\n",
    "\n",
    "labels = ['Bag of Words', 'TF-IDF', 'State Transitions', 'Stacked Features 1 & 3']\n",
    "\n",
    "# You can specify a rotation for the tick labels in degrees or with keywords.\n",
    "plt.xticks(np.arange(len(labels)), labels, rotation='vertical')\n",
    "\n",
    "plt.ylabel('Scores')\n",
    "plt.xlabel('Feature Encoding used')\n",
    "# Place a legend to the right of this smaller figure.\n",
    "plt.legend(bbox_to_anchor=(1.05, 1), loc=2, borderaxespad=0.)\n",
    "plt.show()"
   ]
  },
  {
   "cell_type": "markdown",
   "metadata": {},
   "source": [
    "## Final evaluation results on Kaggle"
   ]
  },
  {
   "cell_type": "markdown",
   "metadata": {},
   "source": [
    "### Bar graph depicting Public vs Private Categorization Accuracy Scores on the different Models."
   ]
  },
  {
   "cell_type": "code",
   "execution_count": null,
   "metadata": {
    "collapsed": false
   },
   "outputs": [],
   "source": [
    "import numpy as np\n",
    "import matplotlib.pyplot as plt\n",
    "%matplotlib inline\n",
    "N = 8\n",
    "publicScore = (80.453, 75.637, 79.887, 80.737, 81.586, 80.170, 80.170, 79.887)\n",
    "privateScore = (84.136, 80.170, 83.569, 83.003, 83.286, 83.003, 83.003, 83.569)\n",
    "modelNames = ('RF(50T, Entropy)+Bag of Words', 'RF(150T, Entropy)+TF-IDF', 'RF(50T, Entropy) + State Transition', \n",
    "              'KNN(5) +Bag of Words', 'KNN(5) + TF-IDF', 'KNN(5) + State Transition',\n",
    "              'Stack: KNN(5) + ST + BoW', 'Stack: RF(50T, Entropy) + ST + BoW')\n",
    "\n",
    "ind = np.arange(N)  # the x locations for the groups\n",
    "width = 0.35       # the width of the bars\n",
    "\n",
    "fig, ax = plt.subplots()\n",
    "rects1 = ax.bar(ind, publicScore, width, color='m')\n",
    "\n",
    "rects2 = ax.bar(ind + width, privateScore, width, color='c')\n",
    "\n",
    "# add some text for labels, title and axes ticks\n",
    "ax.set_ylabel('Scores')\n",
    "ax.set_title('Evaluations of submissions using Categorization Accuracy.')\n",
    "ax.set_xticks(ind + width)\n",
    "ax.set_xticklabels(modelNames,  rotation='vertical')\n",
    "ax.set_ylim(75,85)\n",
    "\n",
    "# def autolabel(rects):\n",
    "#     # attach some text labels\n",
    "#     for rect in rects:\n",
    "#         height = rect.get_height()\n",
    "#         ax.text(rect.get_x() + rect.get_width()/2., 1.05*height,\n",
    "#                 '%d' % int(height),\n",
    "#                 ha='center', va='bottom')\n",
    "\n",
    "# autolabel(rects1)\n",
    "# autolabel(rects2)\n",
    "\n",
    "# Place a legend to the right of this smaller figure.\n",
    "ax.legend((rects1[0], rects2[0]), ('Public Scores', 'Private Scores'), bbox_to_anchor=(1.05, 1), loc=2, borderaxespad=0.)\n",
    "\n",
    "plt.show()"
   ]
  },
  {
   "cell_type": "markdown",
   "metadata": {},
   "source": [
    "### Hence we conclude that the best model is kNN using TF-IDF as features !"
   ]
  },
  {
   "cell_type": "code",
   "execution_count": null,
   "metadata": {
    "collapsed": true
   },
   "outputs": [],
   "source": []
  },
  {
   "cell_type": "markdown",
   "metadata": {},
   "source": [
    "## Geo Visualization"
   ]
  },
  {
   "cell_type": "markdown",
   "metadata": {},
   "source": [
    "### Visualize Personality types based on location of user tweets."
   ]
  },
  {
   "cell_type": "code",
   "execution_count": 277,
   "metadata": {
    "collapsed": false,
    "scrolled": true
   },
   "outputs": [],
   "source": [
    "from mpl_toolkits.basemap import Basemap\n",
    "import numpy as np\n",
    "import matplotlib.pyplot as plt\n",
    "\n",
    "# # read sst.  Will automatically create a masked array using\n",
    "# # missing_value variable attribute. 'squeeze out' singleton dimensions.\n",
    "# sst = dataset.variables['sst'][timeindex,:].squeeze()\n",
    "\n",
    "# N = 79\n",
    "\n",
    "# import numpy.random as nprnd\n",
    "# geo_latitude = 100 * np.random.randn(N)\n",
    "\n",
    "# geo_longitude = 100 * np.random.randn(N)\n",
    "# personality = [(x,x) for x in YTrain[0:N]]\n",
    "# # print personality\n",
    "# print len(YTrain[0:N])\n",
    "# print len(geo_longitude)\n",
    "\n",
    "# # personality = [(1,1), (7,7), (2,2)]\n",
    "# # geo_latitude = [35.24,-89.45,58,.64]\n",
    "# # geo_longitude = [-15.46,29.15,44.31]\n",
    "\n",
    "# # read ice.\n",
    "# # ice = dataset.variables['ice'][timeindex,:].squeeze()\n",
    "# # read lats and lons (representing centers of grid boxes).\n",
    "\n",
    "# lats = geo_latitude\n",
    "# lons = geo_longitude\n",
    "# lons, lats = np.meshgrid(lons,lats)\n",
    "# # create figure, axes instances.\n",
    "# fig = plt.figure()\n",
    "# ax = fig.add_axes([0.05,0.05,0.9,0.9])\n",
    "# # create Basemap instance.\n",
    "# # coastlines not used, so resolution set to None to skip\n",
    "# # m = Basemap(projection='kav7',lon_0=0,resolution=None)\n",
    "# m = Basemap(projection='kav7',lat_0=0, lon_0=0, resolution=None)\n",
    "# # draw line around map projection limb.\n",
    "# # color background of map projection region.\n",
    "# # missing values over land will show up this color.\n",
    "# # m.drawmapboundary(fill_color='0.3')\n",
    "# m.drawmapboundary(fill_color='aqua')\n",
    "# # m.fillcontinents(color='coral',lake_color='aqua')\n",
    "# # m.drawcoastlines()\n",
    "\n",
    "# # plot sst, then ice with pcolor\n",
    "# # im1 = m.pcolormesh(lons,lats,personality,shading='flat',cmap=plt.cm.jet,latlon=True)\n",
    "# # im2 = m.pcolormesh(lons,lats,ice,shading='flat',cmap=plt.cm.gist_gray,latlon=True)\n",
    "# # draw parallels and meridians, but don't bother labelling them.\n",
    "# m.drawparallels(np.arange(-90.,99.,30.))\n",
    "# m.drawmeridians(np.arange(-180.,180.,60.))\n",
    "# # add colorbar\n",
    "# # cb = m.colorbar(im1,\"bottom\", size=\"5%\", pad=\"2%\")\n",
    "# # add a title.\n",
    "# ax.set_title('Personality Predictions for user tweets')\n",
    "# plt.show()"
   ]
  },
  {
   "cell_type": "code",
   "execution_count": 280,
   "metadata": {
    "collapsed": false
   },
   "outputs": [
    {
     "data": {
      "image/png": "[encoded data removed]",
      "text/plain": [
       "<matplotlib.figure.Figure at 0x7fe73b042290>"
      ]
     },
     "metadata": {},
     "output_type": "display_data"
    }
   ],
   "source": [
    "import string\n",
    "import matplotlib.cm as cm\n",
    " \n",
    "# lon = np.random.random_integers(-50,79,4000)/10.\n",
    "# lat = np.random.random_integers(-80,519,4000)/10.\n",
    "\n",
    "# lon = np.random.random_integers(-100,100,4000)\n",
    "# lat = np.random.random_integers(-100,100,4000)\n",
    "\n",
    "\n",
    "# geo_latitude = lat\n",
    "# geo_longitude = lon\n",
    "\n",
    "x = geo_latitude \n",
    "y = geo_longitude\n",
    "z = YTrain[0:79]\n",
    "sizes = z\n",
    "sizes = 10\n",
    "\n",
    "cols = YTrain[0:79]\n",
    "# m = Basemap(projection='kav7',lon_0=0,lat_0=0,resolution='l')\n",
    "m = Basemap(projection='kav7',lon_0=0,lat_0=0,resolution='i')\n",
    "x1,y1=m(x,y)\n",
    "\n",
    "m.drawmapboundary(fill_color='black') # fill to edge\n",
    "m.drawcountries()\n",
    "m.fillcontinents(color='white',lake_color='black')\n",
    "\n",
    "# m.scatter(x1,y1,s=sizes,c=cols, marker=\"o\",cmap=cm.cool,alpha=0.7)\n",
    "# m.scatter(x1,y1,25,z,cmap=plt.cm.jet,marker='o',edgecolors='none',zorder=10)\n",
    "# m.hexbin(x1,y1,gridsize=180,bins='log',cmap=cm.jet,linewidths=0,edgecolors=None,zorder=3,alpha=0.9)\n",
    "\n",
    "# m.plot(x,y, 'bo', markersize=5)\n",
    "\n",
    "# c = plt.colorbar(orientation='vertical', shrink = 0.3)\n",
    "# c.set_label(\"Personality Types\")\n",
    "\n",
    "sc = m.scatter(x1,y1,cmap=plt.cm.jet,marker='o',edgecolors='none')\n",
    "# sc = m.scatter(x,y, c=cols, vmin=0, vmax =35, cmap=cm.jet, s=sizes, edgecolors='none')\n",
    "# cbar = plt.colorbar(sc, shrink = .5)\n",
    "# cbar.set_label(\"Personality Types\")\n",
    "\n",
    "plt.title(\"Geo-tagging Twitter User Personality Types\")\n",
    "plt.show()"
   ]
  },
  {
   "cell_type": "code",
   "execution_count": null,
   "metadata": {
    "collapsed": false
   },
   "outputs": [],
   "source": []
  },
  {
   "cell_type": "markdown",
   "metadata": {},
   "source": [
    "### Visualize Sentiment of user tweets based on location."
   ]
  },
  {
   "cell_type": "code",
   "execution_count": null,
   "metadata": {
    "collapsed": true
   },
   "outputs": [],
   "source": []
  },
  {
   "cell_type": "code",
   "execution_count": null,
   "metadata": {
    "collapsed": true
   },
   "outputs": [],
   "source": []
  },
  {
   "cell_type": "code",
   "execution_count": null,
   "metadata": {
    "collapsed": true
   },
   "outputs": [],
   "source": []
  },
  {
   "cell_type": "markdown",
   "metadata": {},
   "source": [
    "### TO DO\n",
    "#### 1. Basemap for Personality and Sentiment"
   ]
  },
  {
   "cell_type": "code",
   "execution_count": null,
   "metadata": {
    "collapsed": true
   },
   "outputs": [],
   "source": []
  }
 ],
 "metadata": {
  "kernelspec": {
   "display_name": "Python 2",
   "language": "python",
   "name": "python2"
  },
  "language_info": {
   "codemirror_mode": {
    "name": "ipython",
    "version": 2
   },
   "file_extension": ".py",
   "mimetype": "text/x-python",
   "name": "python",
   "nbconvert_exporter": "python",
   "pygments_lexer": "ipython2",
   "version": "2.7.11"
  }
 },
 "nbformat": 4,
 "nbformat_minor": 0
}
